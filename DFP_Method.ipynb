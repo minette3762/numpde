{
 "cells": [
  {
   "cell_type": "code",
   "execution_count": 88,
   "metadata": {
    "id": "ZYQZRvq1qNE3"
   },
   "outputs": [],
   "source": [
    "#Import library\n",
    "import numpy as np\n",
    "from sympy import symbols\n",
    "\n",
    "#Define the elements\n",
    "x1 = symbols(\"x1\")\n",
    "x2 = symbols(\"x2\")\n",
    "\n",
    "#Define Jacobian matrix\n",
    "def jacobian(f, x):\n",
    "  jac = np.array([-2*(1-x[0])**2+100*(-x[0]**2+x[1])**2, 200*(-x[0]**2+x[1])])\n",
    "  return jac\n",
    "\n",
    "#Define DFP method\n",
    "def DFP(f, x, it):\n",
    "  #Step length\n",
    "  step = 1 \n",
    "  \n",
    "  #Initialize matrix A\n",
    "  A = np.eye(2)\n",
    "  x_len = x.shape[0]\n",
    "\n",
    "  #Tolerance\n",
    "  eps = 1e-3\n",
    "\n",
    "  #The method\n",
    "  fun = lambda x1, x2: 100 * (x2 - x1 ** 2) ** 2 + (1 - x1) ** 2\n",
    "  print(\"Initial function value = {:.4f}\".format(fun(x[0], x[1])))\n",
    "  print(f\"{'No.'} \\t {'x[0]':^6} \\t {'x[1]':^14}\")\n",
    "  for i in range(1, it):\n",
    "    J = jacobian(f, x)\n",
    "    if np.linalg.norm(J) < eps:\n",
    "      break\n",
    "    \n",
    "    S = np.dot(A, J)\n",
    "\n",
    "    #Update x\n",
    "    x_new = x-S*step\n",
    "    print(\"{} \\t{:12.4f} \\t{:12.4f}\".format(i, x_new[0], x_new[1]))\n",
    "    J_new = jacobian(f, x_new)\n",
    "    delta_J = J_new - J\n",
    "    delta_x = x_new - x\n",
    "    A_deltaJ = np.dot(A, delta_J)\n",
    "    deltaJ_TA = np.dot(delta_J, A)\n",
    "    deltaJAdeltaJ = np.dot(np.dot(delta_J, A), delta_J)\n",
    "\n",
    "    #Update matrix A\n",
    "    A = A+delta_x.reshape([x_len, 1])*delta_x/np.dot(delta_x, delta_J) - A_deltaJ.reshape([x_len, 1])*deltaJ_TA/deltaJAdeltaJ\n",
    "    x = x_new\n",
    "  print(\"{} \\t{:12.4f} \\t{:12.4f}\".format(it, x_new[0], x_new[1]))\n",
    "  return  print(\"The optimal point is: ({:.4f},{:.4f})\".format(x[0], x[1]))"
   ]
  },
  {
   "cell_type": "code",
   "execution_count": 89,
   "metadata": {
    "colab": {
     "base_uri": "https://localhost:8080/"
    },
    "id": "ICflcOOXrCGX",
    "outputId": "8fde102a-7bbf-4950-c668-79cd42105dc9"
   },
   "outputs": [
    {
     "name": "stdout",
     "output_type": "stream",
     "text": [
      "Initial function value = 4916.0000\n",
      "No. \t  x[0]  \t      x[1]     \n",
      "1 \t  -4871.0000 \t   1402.0000\n",
      "2 \t     -2.7500 \t   1401.9996\n",
      "3 \t     -2.7735 \t-277501.8035\n",
      "4 \t     -2.7467 \t    464.8668\n",
      "5 \t     -2.7456 \t    157.2689\n",
      "6 \t     -2.7451 \t      7.4153\n",
      "7 \t     -2.7451 \t      7.5355\n",
      "8 \t     -2.7451 \t      7.5355\n",
      "9 \t     -2.7451 \t      7.5355\n",
      "The optimal point is: (-2.7451,7.5355)\n"
     ]
    }
   ],
   "source": [
    "x = np.array([-3, 2], dtype=float)\n",
    "f = 100 * (x2 - x1 ** 2) ** 2 + (1 - x1) ** 2\n",
    "DFP(f, x, 9)"
   ]
  }
 ],
 "metadata": {
  "colab": {
   "collapsed_sections": [],
   "name": "DFP Method.ipynb",
   "provenance": []
  },
  "kernelspec": {
   "display_name": "Python 3",
   "language": "python",
   "name": "python3"
  },
  "language_info": {
   "codemirror_mode": {
    "name": "ipython",
    "version": 3
   },
   "file_extension": ".py",
   "mimetype": "text/x-python",
   "name": "python",
   "nbconvert_exporter": "python",
   "pygments_lexer": "ipython3",
   "version": "3.8.5"
  }
 },
 "nbformat": 4,
 "nbformat_minor": 1
}
